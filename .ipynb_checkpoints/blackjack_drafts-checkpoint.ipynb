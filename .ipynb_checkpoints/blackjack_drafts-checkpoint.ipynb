{
 "cells": [
  {
   "cell_type": "code",
   "execution_count": 2,
   "metadata": {
    "collapsed": true
   },
   "outputs": [],
   "source": [
    "# Card and Deck objects for gamescript.py\n",
    "# This objects are intended to be reusable for future card games.\n",
    "\n",
    "class Card(object):\n",
    "\t\"\"\"\n",
    "\tA class for generating standard attributes for playing cards.\n",
    "\t\"\"\"\n",
    "\tdef __init__(self, rank, suit):\n",
    "\t\t\"\"\"Return a Card object with rank and suit value.\"\"\"\n",
    "\t\tself.rank = rank\n",
    "\t\tself.suit = suit\n",
    "\n",
    "\tdef getrank(self):\n",
    "\t\t\"\"\"Returns the rank of the card.\"\"\"\n",
    "\t\treturn self.rank\n",
    "\n",
    "\tdef getSuit(self):\n",
    "\t\t\"\"\"Returns the suit of the card.\"\"\"\n",
    "\t\treturn self.suit\n",
    "\n",
    "\tdef BJValue(self):\n",
    "\t\t\"\"\"Returns the blackjack value of the card. \n",
    "\t\tExample:\n",
    "\t\t-------\n",
    "\t\t2 --> 2; King --> 10\n",
    "\t\tNote: An ace is given the default value of 1 here.  Its alternative\n",
    "\t\tvalue of 11 is assigned in blackjack.py.\n",
    "\t\t\"\"\"\n",
    "\t\tif self.rank == 'Ace':\n",
    "\t\t\treturn 1 \n",
    "\t\telif self.rank == 'Jack' or self.rank == 'Queen' or self.rank == 'King':\n",
    "\t\t\treturn 10\n",
    "\t\telse:\n",
    "\t\t\treturn int(self.rank)\n",
    "\n",
    "\tdef __str__(self):\n",
    "\t\treturn('{0} of {1}'.format(self.rank, self.suit))\n",
    "\n",
    "class Deck(object):\n",
    "\t\"\"\"\n",
    "\tA class for generating a deck of cards\n",
    "\t\"\"\"\n",
    "\tdef __init__(self):\n",
    "\t\tself.game_deck = []\n",
    "\t\n",
    "\tdef constructor(self):\n",
    "\t\tfor suit in ['Diamonds', 'Clubs', 'Hearts', 'Spades']:\n",
    "\t\t\tfor num in ['Ace','2', '3', '4', '5', '6', '7', '8', '9', '10',\n",
    "\t\t\t\t\t\t'Jack', 'Queen', 'King']:\n",
    "\t\t\t\tself.game_deck.append(Card(num, suit))\n",
    "\t\treturn self.game_deck\n",
    "\n",
    "\n"
   ]
  },
  {
   "cell_type": "code",
   "execution_count": null,
   "metadata": {
    "collapsed": false
   },
   "outputs": [],
   "source": [
    "new = Deck()\n",
    "temp = new.constructor()\n",
    "for items in temp:\n",
    "    print(items)\n",
    "#for items in temp:\n",
    "#    print(items.BJValue())"
   ]
  },
  {
   "cell_type": "code",
   "execution_count": 27,
   "metadata": {
    "collapsed": true
   },
   "outputs": [],
   "source": [
    "# Card and Deck objects for gamescript.py\n",
    "# This objects are intended to be reusable for future card games.\n",
    "\n",
    "class Card(object):\n",
    "\t\"\"\"\n",
    "\tA class for generating standard attributes for playing cards.\n",
    "\t\"\"\"\n",
    "\tdef __init__(self, rank, suit):\n",
    "\t\t\"\"\"Return a Card object with rank and suit value.\"\"\"\n",
    "\t\tself.rank = rank\n",
    "\t\tself.suit = suit\n",
    "\t\t\n",
    "\tdef getrank(self):\n",
    "\t\t\"\"\"Returns the rank of the card.\"\"\"\n",
    "\t\treturn self.rank\n",
    "\n",
    "\tdef getSuit(self):\n",
    "\t\t\"\"\"Returns the suit of the card.\"\"\"\n",
    "\t\treturn self.suit\n",
    "\n",
    "\tdef BJValue(self):\n",
    "\t\t\"\"\"Returns the blackjack value of the card. \n",
    "\t\tExample:\n",
    "\t\t-------\n",
    "\t\t2 == 2; King == 10\n",
    "\t\tNote: An ace is given the default value of 1 here.  Its alternative\n",
    "\t\tvalue of 11 is assigned in blackjack.py.\n",
    "\t\t\"\"\"\n",
    "\t\tif self.rank == 'Ace':\n",
    "\t\t\treturn 1 \n",
    "\t\telif self.rank == 'Jack' or self.rank == 'Queen' or self.rank == 'King':\n",
    "\t\t\treturn 10\n",
    "\t\telse:\n",
    "\t\t\treturn int(self.rank)\n",
    "\n",
    "\tdef __str__(self):\n",
    "\t\treturn('{0} of {1}'.format(self.rank, self.suit))\n",
    "\n",
    "class Deck(object):\n",
    "\t\"\"\"A class for generating a deck of cards.\n",
    "\t\"\"\"\n",
    "\tdef __init__(self):\n",
    "\t\t\"\"\"Initializes the deck, which is an empty list.\n",
    "\t\t\"\"\"\n",
    "\t\tself.game_deck = []\n",
    "\t\n",
    "\tdef constructor(self):\n",
    "\t\t\"\"\"Constructs a deck of 52 cards. This function will create a deck\n",
    "\t\tusing the traditional French suits with the suit order Clubs, Diamonds,\n",
    "\t\tHearts, and Spades.\n",
    "\t\t\"\"\"\n",
    "\t\tfor num in ['Ace','2', '3', '4', '5', '6', '7', '8', '9', '10',\n",
    "\t\t\t\t\t\t'Jack', 'Queen', 'King']:\n",
    "\t\t\tfor suit in ['Clubs', 'Diamonds', 'Hearts', 'Spades']:\n",
    "\t\t\t\tself.game_deck.append(Card(num, suit))\n",
    "\t\tself.game_deck = enumerate(self.game_deck)\n",
    "\t\treturn self.game_deck\n",
    "\n",
    "if __name__ == '__main__':\n",
    "\tpass\n",
    "\n",
    "\n"
   ]
  },
  {
   "cell_type": "code",
   "execution_count": 30,
   "metadata": {
    "collapsed": false
   },
   "outputs": [
    {
     "name": "stdout",
     "output_type": "stream",
     "text": [
      "Ace of Clubs\n"
     ]
    }
   ],
   "source": [
    "new = Deck()\n",
    "temp = new.constructor()\n",
    "#for items in temp:\n",
    "#    index, value = items\n",
    "#    print(index, value )\n",
    "print(temp[0])"
   ]
  }
 ],
 "metadata": {
  "kernelspec": {
   "display_name": "Python 3",
   "language": "python",
   "name": "python3"
  },
  "language_info": {
   "codemirror_mode": {
    "name": "ipython",
    "version": 3
   },
   "file_extension": ".py",
   "mimetype": "text/x-python",
   "name": "python",
   "nbconvert_exporter": "python",
   "pygments_lexer": "ipython3",
   "version": "3.4.3"
  }
 },
 "nbformat": 4,
 "nbformat_minor": 0
}
