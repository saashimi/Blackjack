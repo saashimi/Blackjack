{
 "cells": [
  {
   "cell_type": "code",
   "execution_count": 155,
   "metadata": {
    "collapsed": false
   },
   "outputs": [],
   "source": [
    "# Card and Deck objects for gamescript.py\n",
    "# This objects are intended to be reusable for future card games.\n",
    "__author__ = \"Kevin Saavedra\"\n",
    "\n",
    "import random\n",
    "\n",
    "class Card(object):\n",
    "\t\"\"\"\n",
    "\tA class for generating standard attributes for playing cards. Class \n",
    "\tdefinitions inspired by John Zelle's \"Python Programming\" 2nd ed.\n",
    "\t\"\"\"\n",
    "\tdef __init__(self, rank, suit):\n",
    "\t\t\"\"\"Return a Card object with rank and suit value.\"\"\"\n",
    "\t\tself.rank = rank\n",
    "\t\tself.suit = suit\n",
    "\t\t\n",
    "\tdef get_rank(self):\n",
    "\t\t\"\"\"Returns the rank of the card.\"\"\"\n",
    "\t\treturn self.rank\n",
    "\n",
    "\tdef get_suit(self):\n",
    "\t\t\"\"\"Returns the suit of the card.\"\"\"\n",
    "\t\treturn self.suit\n",
    "\n",
    "\tdef bj_value(self):\n",
    "\t\t\"\"\"Returns the blackjack value of the card as an integer. \n",
    "\t\tExample:\n",
    "\t\t-------\n",
    "\t\t2 == 2; King == 10\n",
    "\t\tNote: An ace is given the default value of 1 here.  The alternative\n",
    "\t\tvalue of 11 is assigned in blackjack.py.\n",
    "\t\t\"\"\"\n",
    "\t\tif self.rank == 'Ace':\n",
    "\t\t\treturn 1 \n",
    "\t\telif self.rank == 'Jack' or self.rank == 'Queen' or self.rank == 'King':\n",
    "\t\t\treturn 10\n",
    "\t\telse:\n",
    "\t\t\treturn int(self.rank)\n",
    "\n",
    "\tdef __str__(self):\n",
    "\t\t\"\"\"Returns values of cards in a natural-sounding format.\n",
    "\t\tExample:\n",
    "\t\t--------\n",
    "\t\tTwo of Spades, Queen of Hearts\n",
    "\t\t\"\"\"\n",
    "\t\treturn('{0} of {1}'.format(self.rank, self.suit))\n",
    "\n",
    "class Deck(object):\n",
    "\t\"\"\"A class for generating a deck of cards.\n",
    "\t\"\"\"\n",
    "\tdef __init__(self):\n",
    "\t\t\"\"\"Initializes the deck, which is an empty list.\n",
    "\t\t\"\"\"\n",
    "\t\tself.game_deck = []\n",
    "\t\n",
    "\tdef constructor(self):\n",
    "\t\t\"\"\"Constructs a deck of 52 cards. This function will create a deck\n",
    "\t\tusing the traditional French suits with the suit order Clubs, Diamonds,\n",
    "\t\tHearts, and Spades. \n",
    "\t\tOutput:\n",
    "\t\tAn enumerated list of Card objects.\n",
    "\t\t\"\"\"\n",
    "\t\t\n",
    "\t\tfor suit in ['Clubs', 'Diamonds', 'Hearts', 'Spades']:\n",
    "\t\t\tfor num in ['Ace','2', '3', '4', '5', '6', '7', '8', '9', '10',\n",
    "\t\t\t\t\t\t\t'Jack', 'Queen', 'King']:\t\t\n",
    "\t\t\t\tself.game_deck.append(Card(num, suit))\n",
    "\t\t#self.game_deck = list(enumerate(self.game_deck)) #Enumerate for easy\n",
    "\t\t\t\t\t\t\t\t\t\t\t\t\t\t #sorting later.\n",
    "\t\treturn self.game_deck\n",
    "\n",
    "\tdef shuffle_deck(self):\n",
    "\t\t\"\"\"Shuffles a deck of cards.\n",
    "\t\t\"\"\"\n",
    "\t\treturn random.shuffle(self.game_deck)\n",
    "\n",
    "\tdef draw_card(self):\n",
    "\t\t\"\"\"Returns the value of the top card and subtracts that value from \n",
    "\t\tthe deck.\n",
    "\t\t\"\"\"\n",
    "\t\ttop_card = self.game_deck[0]\n",
    "\t\tself.game_deck = self.game_deck.pop(0)\n",
    "\t\treturn top_card\n",
    "\n",
    "\tdef cards_left(self):\n",
    "\t\treturn len(self.game_deck)\n",
    "\n",
    "\tdef sort(self):\n",
    "\t\t\"\"\"Sorts the remaining cards back into standard order. Thunder suggested\n",
    "\t\tmerge sort (that magnificent bastard!)\n",
    "\t\t\"\"\"\n",
    "\t\tpass\n",
    "\n",
    "\n",
    "class Hand(object):\n",
    "\t\"\"\"a class for storing the draw_card objects.\n",
    "\t\"\"\"\n",
    "\tdef __init__(self):\n",
    "\t\t\"\"\"An empty list\"\"\"\n",
    "\t\tself.current_hand = []\n",
    "\n",
    "\tdef add_card(self, card):\n",
    "\t\t\"\"\"Adds a card to current_hand.\n",
    "\t\t\"\"\"\n",
    "\t\treturn self.current_hand.append(card)\n",
    "\t\t\n",
    "\tdef subtract_card(self, card):\n",
    "\t\t\"\"\"Removes a card from current_hand.\n",
    "\t\t\"\"\"\n",
    "\t\treturn self.current_hand.remove(card)\n",
    "\n",
    "class Player(object):\n",
    "\t\"\"\"A class that plays a hand of cards.\n",
    "\t\"\"\"\n",
    "\tdef __init__(self, name):\n",
    "\t\t\"\"\"Returns a Player object whose name is 'name'\n",
    "\t\t\"\"\"\n",
    "\t\tself.name = name\n",
    "\n",
    "\n"
   ]
  },
  {
   "cell_type": "code",
   "execution_count": 156,
   "metadata": {
    "collapsed": false
   },
   "outputs": [
    {
     "name": "stdout",
     "output_type": "stream",
     "text": [
      "None\n"
     ]
    },
    {
     "data": {
      "text/plain": [
       "<__main__.Card at 0x7f8a702fc7b8>"
      ]
     },
     "execution_count": 156,
     "metadata": {},
     "output_type": "execute_result"
    }
   ],
   "source": [
    "test_deck = Deck()\n",
    "test_card = Card(\"Ace\", \"Clubs\")\n",
    "test_deck.constructor()\n",
    "a = test_deck.shuffle_deck()\n",
    "print(a)\n",
    "\n",
    "test_card\n",
    "alpha[0][1]\n",
    "#assert alpha[0][1] == \"Ace of Clubs\"\n",
    "\n",
    "#alpha = test_deck[0][1]\n",
    "\n",
    "#index, value = alpha\n",
    "#print(index, value)\n",
    "#temp = temp.constructor()\n",
    "#temp = temp.draw_card()\n",
    "\n",
    "\n"
   ]
  },
  {
   "cell_type": "code",
   "execution_count": 150,
   "metadata": {
    "collapsed": false
   },
   "outputs": [
    {
     "name": "stdout",
     "output_type": "stream",
     "text": [
      "[<__main__.Card object at 0x7f8a702fcba8>]\n",
      "Ace of Clubs\n"
     ]
    },
    {
     "data": {
      "text/plain": [
       "1"
      ]
     },
     "execution_count": 150,
     "metadata": {},
     "output_type": "execute_result"
    }
   ],
   "source": [
    "my_hand = Hand()\n",
    "#dealt_card = alpha.draw_card()\n",
    "my_hand.add_card(test_card)\n",
    "print(my_hand.current_hand)\n",
    "b = my_hand.current_hand[0]\n",
    "print(b)\n",
    "b.bj_value()\n",
    "\n"
   ]
  }
 ],
 "metadata": {
  "kernelspec": {
   "display_name": "Python 3",
   "language": "python",
   "name": "python3"
  },
  "language_info": {
   "codemirror_mode": {
    "name": "ipython",
    "version": 3
   },
   "file_extension": ".py",
   "mimetype": "text/x-python",
   "name": "python",
   "nbconvert_exporter": "python",
   "pygments_lexer": "ipython3",
   "version": "3.4.3"
  }
 },
 "nbformat": 4,
 "nbformat_minor": 0
}
